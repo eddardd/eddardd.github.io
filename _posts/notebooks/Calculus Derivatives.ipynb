{
 "cells": [
  {
   "cell_type": "code",
   "execution_count": 1,
   "metadata": {},
   "outputs": [],
   "source": [
    "import numpy as np\n",
    "import matplotlib.pyplot as plt"
   ]
  },
  {
   "cell_type": "code",
   "execution_count": 42,
   "metadata": {},
   "outputs": [
    {
     "data": {
      "image/png": "[encoded data removed]",
      "text/plain": [
       "<Figure size 360x360 with 1 Axes>"
      ]
     },
     "metadata": {
      "needs_background": "light"
     },
     "output_type": "display_data"
    }
   ],
   "source": [
    "fig, ax = plt.subplots(figsize=(5, 5))\n",
    "\n",
    "# Plots one point\n",
    "ax.scatter([2], [3], c='k')\n",
    "\n",
    "# Set grid limits\n",
    "ax.set(xlim=(0, 5), ylim=(0, 5), aspect='equal')\n",
    "\n",
    "# Set bottom and left spines as x and y axes of coordinate system\n",
    "ax.spines['bottom'].set_position('zero')\n",
    "ax.spines['left'].set_position('zero')\n",
    "\n",
    "# Remove top and right spines\n",
    "ax.spines['top'].set_visible(False)\n",
    "ax.spines['right'].set_visible(False)\n",
    "\n",
    "# Plots joining lines\n",
    "ax.plot([2, 2], [0, 3], c='k', ls='--')\n",
    "ax.plot([0, 2], [3, 3], c='k', ls='--')\n",
    "\n",
    "# Plot arrow\n",
    "ax.arrow(x=0, y=0, dx=1.84, dy=2.76, head_width=0.25, head_length=0.25, fc='k', ec='k')\n",
    "\n",
    "# Plot text\n",
    "ax.text(2.1, 3.1, \"$p=(2, 3)$\")\n",
    "ax.text(1, 2, \"$\\mathbf{v}$\")\n",
    "\n",
    "ax.grid(':', alpha=0.5)\n",
    "\n",
    "plt.savefig('../Figures/CartesianGrid.png')"
   ]
  },
  {
   "cell_type": "code",
   "execution_count": 59,
   "metadata": {},
   "outputs": [
    {
     "data": {
      "image/png": "[encoded data removed]",
      "text/plain": [
       "<Figure size 360x360 with 1 Axes>"
      ]
     },
     "metadata": {
      "needs_background": "light"
     },
     "output_type": "display_data"
    }
   ],
   "source": [
    "fig, ax = plt.subplots(figsize=(5, 5))\n",
    "\n",
    "# Set grid limits\n",
    "ax.set(xlim=(0, 5), ylim=(0, 5), aspect='equal')\n",
    "\n",
    "# Set bottom and left spines as x and y axes of coordinate system\n",
    "ax.spines['bottom'].set_position('zero')\n",
    "ax.spines['left'].set_position('zero')\n",
    "\n",
    "# Remove top and right spines\n",
    "ax.spines['top'].set_visible(False)\n",
    "ax.spines['right'].set_visible(False)\n",
    "\n",
    "# Plot arrow\n",
    "ax.arrow(x=0, y=0, dx=1 * 0.9, dy=2 * 0.9, head_width=0.25, head_length=0.25, fc='b', ec='b')\n",
    "ax.arrow(x=1, y=2, dx=2 * 0.9, dy=1 * 0.9, head_width=0.25, head_length=0.25, fc='r', ec='r')\n",
    "ax.arrow(x=0, y=0, dx=3 * 0.93, dy=3 * 0.93, head_width=0.25, head_length=0.25, fc='k', ec='k')\n",
    "\n",
    "# Plot texts\n",
    "ax.text(0.4, 1.4, \"$\\mathbf{u}$\")\n",
    "ax.text(1.4, 2.4, \"$\\mathbf{v}$\")\n",
    "ax.text(1.5, 1.2, \"$\\mathbf{w}=\\mathbf{u}+\\mathbf{v}$\")\n",
    "\n",
    "ax.grid(':', alpha=0.5)\n",
    "plt.savefig('../Figures/Vector_Sum.png')"
   ]
  },
  {
   "cell_type": "code",
   "execution_count": 72,
   "metadata": {},
   "outputs": [
    {
     "data": {
      "image/png": "[encoded data removed]",
      "text/plain": [
       "<Figure size 360x360 with 1 Axes>"
      ]
     },
     "metadata": {
      "needs_background": "light"
     },
     "output_type": "display_data"
    }
   ],
   "source": [
    "fig, ax = plt.subplots(figsize=(5, 5))\n",
    "\n",
    "# Set grid limits\n",
    "ax.set(xlim=(0, 5), ylim=(0, 5), aspect='equal')\n",
    "\n",
    "# Set bottom and left spines as x and y axes of coordinate system\n",
    "ax.spines['bottom'].set_position('zero')\n",
    "ax.spines['left'].set_position('zero')\n",
    "\n",
    "# Remove top and right spines\n",
    "ax.spines['top'].set_visible(False)\n",
    "ax.spines['right'].set_visible(False)\n",
    "\n",
    "# Plot arrow\n",
    "ax.arrow(x=0, y=0, dx=1 * 0.93, dy=1 * 0.93, head_width=0.25, head_length=0.25, fc='k', ec='k', alpha=0.5)\n",
    "ax.arrow(x=0, y=0, dx=2 * 0.93, dy=2 * 0.93, head_width=0.25, head_length=0.25, fc='k', ec='k', alpha=0.5)\n",
    "ax.arrow(x=0, y=0, dx=3 * 0.93, dy=3 * 0.93, head_width=0.25, head_length=0.25, fc='k', ec='k', alpha=0.5)\n",
    "\n",
    "# Plot texts\n",
    "ax.text(0.5, 0.7, \"$\\mathbf{u}$\")\n",
    "ax.text(1.4, 1.7, \"$2\\mathbf{u}$\")\n",
    "ax.text(2.4, 2.7, \"$3\\mathbf{u}$\")\n",
    "\n",
    "ax.grid(':', alpha=0.5)\n",
    "plt.savefig('../Figures/VectorMultiplication.png')"
   ]
  },
  {
   "cell_type": "code",
   "execution_count": null,
   "metadata": {},
   "outputs": [],
   "source": []
  }
 ],
 "metadata": {
  "kernelspec": {
   "display_name": "Python 3",
   "language": "python",
   "name": "python3"
  },
  "language_info": {
   "codemirror_mode": {
    "name": "ipython",
    "version": 3
   },
   "file_extension": ".py",
   "mimetype": "text/x-python",
   "name": "python",
   "nbconvert_exporter": "python",
   "pygments_lexer": "ipython3",
   "version": "3.7.6"
  }
 },
 "nbformat": 4,
 "nbformat_minor": 4
}
